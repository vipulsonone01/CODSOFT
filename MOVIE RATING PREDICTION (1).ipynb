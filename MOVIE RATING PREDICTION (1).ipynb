{
 "cells": [
  {
   "cell_type": "code",
   "execution_count": 1,
   "id": "b4ced072",
   "metadata": {
    "execution": {
     "iopub.execute_input": "2024-03-24T02:37:09.796203Z",
     "iopub.status.busy": "2024-03-24T02:37:09.794986Z",
     "iopub.status.idle": "2024-03-24T02:37:13.066800Z",
     "shell.execute_reply": "2024-03-24T02:37:13.065518Z"
    },
    "papermill": {
     "duration": 3.288283,
     "end_time": "2024-03-24T02:37:13.069716",
     "exception": false,
     "start_time": "2024-03-24T02:37:09.781433",
     "status": "completed"
    },
    "tags": []
   },
   "outputs": [],
   "source": [
    "import pandas as pd\n",
    "import matplotlib.pyplot as plt \n",
    "import seaborn as sns\n",
    "from sklearn.preprocessing import LabelEncoder\n",
    "from sklearn.model_selection import train_test_split\n",
    "from sklearn.linear_model import  LinearRegression\n",
    "from sklearn.metrics import mean_squared_error,mean_absolute_error,accuracy_score,r2_score\n",
    "%matplotlib inline "
   ]
  },
  {
   "cell_type": "code",
   "execution_count": 2,
   "id": "69701c0f",
   "metadata": {
    "execution": {
     "iopub.execute_input": "2024-03-24T02:37:13.094103Z",
     "iopub.status.busy": "2024-03-24T02:37:13.093551Z",
     "iopub.status.idle": "2024-03-24T02:37:13.116921Z",
     "shell.execute_reply": "2024-03-24T02:37:13.115571Z"
    },
    "papermill": {
     "duration": 0.038486,
     "end_time": "2024-03-24T02:37:13.119403",
     "exception": false,
     "start_time": "2024-03-24T02:37:13.080917",
     "status": "completed"
    },
    "tags": []
   },
   "outputs": [],
   "source": [
    "import os"
   ]
  },
  {
   "cell_type": "markdown",
   "id": "9a695137",
   "metadata": {
    "papermill": {
     "duration": 0.010527,
     "end_time": "2024-03-24T02:37:13.140988",
     "exception": false,
     "start_time": "2024-03-24T02:37:13.130461",
     "status": "completed"
    },
    "tags": []
   },
   "source": [
    "Data Exploriation"
   ]
  },
  {
   "cell_type": "code",
   "execution_count": 3,
   "id": "9b6410ed",
   "metadata": {
    "execution": {
     "iopub.execute_input": "2024-03-24T02:37:13.165600Z",
     "iopub.status.busy": "2024-03-24T02:37:13.165181Z",
     "iopub.status.idle": "2024-03-24T02:37:13.262418Z",
     "shell.execute_reply": "2024-03-24T02:37:13.261085Z"
    },
    "papermill": {
     "duration": 0.112665,
     "end_time": "2024-03-24T02:37:13.265244",
     "exception": false,
     "start_time": "2024-03-24T02:37:13.152579",
     "status": "completed"
    },
    "tags": []
   },
   "outputs": [],
   "source": [
    "#Read the data \n",
    "df = pd.read_csv('C:\\\\Users\\\\vipul\\\\OneDrive\\\\Desktop\\\\IMDb Movies India.csv', encoding='ISO-8859-1')"
   ]
  },
  {
   "cell_type": "code",
   "execution_count": 4,
   "id": "32346502",
   "metadata": {
    "execution": {
     "iopub.execute_input": "2024-03-24T02:37:13.289468Z",
     "iopub.status.busy": "2024-03-24T02:37:13.289030Z",
     "iopub.status.idle": "2024-03-24T02:37:13.314189Z",
     "shell.execute_reply": "2024-03-24T02:37:13.312820Z"
    },
    "papermill": {
     "duration": 0.040714,
     "end_time": "2024-03-24T02:37:13.317062",
     "exception": false,
     "start_time": "2024-03-24T02:37:13.276348",
     "status": "completed"
    },
    "tags": []
   },
   "outputs": [
    {
     "data": {
      "text/html": [
       "<div>\n",
       "<style scoped>\n",
       "    .dataframe tbody tr th:only-of-type {\n",
       "        vertical-align: middle;\n",
       "    }\n",
       "\n",
       "    .dataframe tbody tr th {\n",
       "        vertical-align: top;\n",
       "    }\n",
       "\n",
       "    .dataframe thead th {\n",
       "        text-align: right;\n",
       "    }\n",
       "</style>\n",
       "<table border=\"1\" class=\"dataframe\">\n",
       "  <thead>\n",
       "    <tr style=\"text-align: right;\">\n",
       "      <th></th>\n",
       "      <th>Name</th>\n",
       "      <th>Year</th>\n",
       "      <th>Duration</th>\n",
       "      <th>Genre</th>\n",
       "      <th>Rating</th>\n",
       "      <th>Votes</th>\n",
       "      <th>Director</th>\n",
       "      <th>Actor 1</th>\n",
       "      <th>Actor 2</th>\n",
       "      <th>Actor 3</th>\n",
       "    </tr>\n",
       "  </thead>\n",
       "  <tbody>\n",
       "    <tr>\n",
       "      <th>0</th>\n",
       "      <td></td>\n",
       "      <td>NaN</td>\n",
       "      <td>NaN</td>\n",
       "      <td>Drama</td>\n",
       "      <td>NaN</td>\n",
       "      <td>NaN</td>\n",
       "      <td>J.S. Randhawa</td>\n",
       "      <td>Manmauji</td>\n",
       "      <td>Birbal</td>\n",
       "      <td>Rajendra Bhatia</td>\n",
       "    </tr>\n",
       "    <tr>\n",
       "      <th>1</th>\n",
       "      <td>#Gadhvi (He thought he was Gandhi)</td>\n",
       "      <td>(2019)</td>\n",
       "      <td>109 min</td>\n",
       "      <td>Drama</td>\n",
       "      <td>7.0</td>\n",
       "      <td>8</td>\n",
       "      <td>Gaurav Bakshi</td>\n",
       "      <td>Rasika Dugal</td>\n",
       "      <td>Vivek Ghamande</td>\n",
       "      <td>Arvind Jangid</td>\n",
       "    </tr>\n",
       "    <tr>\n",
       "      <th>2</th>\n",
       "      <td>#Homecoming</td>\n",
       "      <td>(2021)</td>\n",
       "      <td>90 min</td>\n",
       "      <td>Drama, Musical</td>\n",
       "      <td>NaN</td>\n",
       "      <td>NaN</td>\n",
       "      <td>Soumyajit Majumdar</td>\n",
       "      <td>Sayani Gupta</td>\n",
       "      <td>Plabita Borthakur</td>\n",
       "      <td>Roy Angana</td>\n",
       "    </tr>\n",
       "    <tr>\n",
       "      <th>3</th>\n",
       "      <td>#Yaaram</td>\n",
       "      <td>(2019)</td>\n",
       "      <td>110 min</td>\n",
       "      <td>Comedy, Romance</td>\n",
       "      <td>4.4</td>\n",
       "      <td>35</td>\n",
       "      <td>Ovais Khan</td>\n",
       "      <td>Prateik</td>\n",
       "      <td>Ishita Raj</td>\n",
       "      <td>Siddhant Kapoor</td>\n",
       "    </tr>\n",
       "    <tr>\n",
       "      <th>4</th>\n",
       "      <td>...And Once Again</td>\n",
       "      <td>(2010)</td>\n",
       "      <td>105 min</td>\n",
       "      <td>Drama</td>\n",
       "      <td>NaN</td>\n",
       "      <td>NaN</td>\n",
       "      <td>Amol Palekar</td>\n",
       "      <td>Rajat Kapoor</td>\n",
       "      <td>Rituparna Sengupta</td>\n",
       "      <td>Antara Mali</td>\n",
       "    </tr>\n",
       "  </tbody>\n",
       "</table>\n",
       "</div>"
      ],
      "text/plain": [
       "                                 Name    Year Duration            Genre  \\\n",
       "0                                         NaN      NaN            Drama   \n",
       "1  #Gadhvi (He thought he was Gandhi)  (2019)  109 min            Drama   \n",
       "2                         #Homecoming  (2021)   90 min   Drama, Musical   \n",
       "3                             #Yaaram  (2019)  110 min  Comedy, Romance   \n",
       "4                   ...And Once Again  (2010)  105 min            Drama   \n",
       "\n",
       "   Rating Votes            Director       Actor 1             Actor 2  \\\n",
       "0     NaN   NaN       J.S. Randhawa      Manmauji              Birbal   \n",
       "1     7.0     8       Gaurav Bakshi  Rasika Dugal      Vivek Ghamande   \n",
       "2     NaN   NaN  Soumyajit Majumdar  Sayani Gupta   Plabita Borthakur   \n",
       "3     4.4    35          Ovais Khan       Prateik          Ishita Raj   \n",
       "4     NaN   NaN        Amol Palekar  Rajat Kapoor  Rituparna Sengupta   \n",
       "\n",
       "           Actor 3  \n",
       "0  Rajendra Bhatia  \n",
       "1    Arvind Jangid  \n",
       "2       Roy Angana  \n",
       "3  Siddhant Kapoor  \n",
       "4      Antara Mali  "
      ]
     },
     "execution_count": 4,
     "metadata": {},
     "output_type": "execute_result"
    }
   ],
   "source": [
    "#Show the data\n",
    "df.head()"
   ]
  },
  {
   "cell_type": "code",
   "execution_count": 5,
   "id": "4cd18fb4",
   "metadata": {
    "execution": {
     "iopub.execute_input": "2024-03-24T02:37:13.341825Z",
     "iopub.status.busy": "2024-03-24T02:37:13.341112Z",
     "iopub.status.idle": "2024-03-24T02:37:13.347090Z",
     "shell.execute_reply": "2024-03-24T02:37:13.346104Z"
    },
    "papermill": {
     "duration": 0.020908,
     "end_time": "2024-03-24T02:37:13.349289",
     "exception": false,
     "start_time": "2024-03-24T02:37:13.328381",
     "status": "completed"
    },
    "tags": []
   },
   "outputs": [
    {
     "data": {
      "text/plain": [
       "(15509, 10)"
      ]
     },
     "execution_count": 5,
     "metadata": {},
     "output_type": "execute_result"
    }
   ],
   "source": [
    "#the shape of the data\n",
    "df.shape"
   ]
  },
  {
   "cell_type": "code",
   "execution_count": 6,
   "id": "533d24be",
   "metadata": {
    "execution": {
     "iopub.execute_input": "2024-03-24T02:37:13.374442Z",
     "iopub.status.busy": "2024-03-24T02:37:13.373669Z",
     "iopub.status.idle": "2024-03-24T02:37:13.380806Z",
     "shell.execute_reply": "2024-03-24T02:37:13.379760Z"
    },
    "papermill": {
     "duration": 0.022466,
     "end_time": "2024-03-24T02:37:13.383323",
     "exception": false,
     "start_time": "2024-03-24T02:37:13.360857",
     "status": "completed"
    },
    "tags": []
   },
   "outputs": [
    {
     "data": {
      "text/plain": [
       "Index(['Name', 'Year', 'Duration', 'Genre', 'Rating', 'Votes', 'Director',\n",
       "       'Actor 1', 'Actor 2', 'Actor 3'],\n",
       "      dtype='object')"
      ]
     },
     "execution_count": 6,
     "metadata": {},
     "output_type": "execute_result"
    }
   ],
   "source": [
    "#the columns of the data\n",
    "df.columns"
   ]
  },
  {
   "cell_type": "code",
   "execution_count": 7,
   "id": "4b46f0cd",
   "metadata": {
    "execution": {
     "iopub.execute_input": "2024-03-24T02:37:13.409339Z",
     "iopub.status.busy": "2024-03-24T02:37:13.408856Z",
     "iopub.status.idle": "2024-03-24T02:37:13.452745Z",
     "shell.execute_reply": "2024-03-24T02:37:13.451016Z"
    },
    "papermill": {
     "duration": 0.059777,
     "end_time": "2024-03-24T02:37:13.455475",
     "exception": false,
     "start_time": "2024-03-24T02:37:13.395698",
     "status": "completed"
    },
    "tags": []
   },
   "outputs": [
    {
     "name": "stdout",
     "output_type": "stream",
     "text": [
      "<class 'pandas.core.frame.DataFrame'>\n",
      "RangeIndex: 15509 entries, 0 to 15508\n",
      "Data columns (total 10 columns):\n",
      " #   Column    Non-Null Count  Dtype  \n",
      "---  ------    --------------  -----  \n",
      " 0   Name      15509 non-null  object \n",
      " 1   Year      14981 non-null  object \n",
      " 2   Duration  7240 non-null   object \n",
      " 3   Genre     13632 non-null  object \n",
      " 4   Rating    7919 non-null   float64\n",
      " 5   Votes     7920 non-null   object \n",
      " 6   Director  14984 non-null  object \n",
      " 7   Actor 1   13892 non-null  object \n",
      " 8   Actor 2   13125 non-null  object \n",
      " 9   Actor 3   12365 non-null  object \n",
      "dtypes: float64(1), object(9)\n",
      "memory usage: 1.2+ MB\n"
     ]
    }
   ],
   "source": [
    "#Information about the data\n",
    "df.info()"
   ]
  },
  {
   "cell_type": "code",
   "execution_count": 8,
   "id": "42cc3cc7",
   "metadata": {
    "execution": {
     "iopub.execute_input": "2024-03-24T02:37:13.480932Z",
     "iopub.status.busy": "2024-03-24T02:37:13.480479Z",
     "iopub.status.idle": "2024-03-24T02:37:13.503404Z",
     "shell.execute_reply": "2024-03-24T02:37:13.502366Z"
    },
    "papermill": {
     "duration": 0.038322,
     "end_time": "2024-03-24T02:37:13.505611",
     "exception": false,
     "start_time": "2024-03-24T02:37:13.467289",
     "status": "completed"
    },
    "tags": []
   },
   "outputs": [
    {
     "data": {
      "text/plain": [
       "Name           0\n",
       "Year         528\n",
       "Duration    8269\n",
       "Genre       1877\n",
       "Rating      7590\n",
       "Votes       7589\n",
       "Director     525\n",
       "Actor 1     1617\n",
       "Actor 2     2384\n",
       "Actor 3     3144\n",
       "dtype: int64"
      ]
     },
     "execution_count": 8,
     "metadata": {},
     "output_type": "execute_result"
    }
   ],
   "source": [
    "#check for null values\n",
    "df.isnull().sum()"
   ]
  },
  {
   "cell_type": "code",
   "execution_count": 9,
   "id": "a8ba0444",
   "metadata": {
    "execution": {
     "iopub.execute_input": "2024-03-24T02:37:13.531818Z",
     "iopub.status.busy": "2024-03-24T02:37:13.530717Z",
     "iopub.status.idle": "2024-03-24T02:37:13.548461Z",
     "shell.execute_reply": "2024-03-24T02:37:13.547115Z"
    },
    "papermill": {
     "duration": 0.033564,
     "end_time": "2024-03-24T02:37:13.551034",
     "exception": false,
     "start_time": "2024-03-24T02:37:13.517470",
     "status": "completed"
    },
    "tags": []
   },
   "outputs": [
    {
     "data": {
      "text/html": [
       "<div>\n",
       "<style scoped>\n",
       "    .dataframe tbody tr th:only-of-type {\n",
       "        vertical-align: middle;\n",
       "    }\n",
       "\n",
       "    .dataframe tbody tr th {\n",
       "        vertical-align: top;\n",
       "    }\n",
       "\n",
       "    .dataframe thead th {\n",
       "        text-align: right;\n",
       "    }\n",
       "</style>\n",
       "<table border=\"1\" class=\"dataframe\">\n",
       "  <thead>\n",
       "    <tr style=\"text-align: right;\">\n",
       "      <th></th>\n",
       "      <th>Rating</th>\n",
       "    </tr>\n",
       "  </thead>\n",
       "  <tbody>\n",
       "    <tr>\n",
       "      <th>count</th>\n",
       "      <td>7919.000000</td>\n",
       "    </tr>\n",
       "    <tr>\n",
       "      <th>mean</th>\n",
       "      <td>5.841621</td>\n",
       "    </tr>\n",
       "    <tr>\n",
       "      <th>std</th>\n",
       "      <td>1.381777</td>\n",
       "    </tr>\n",
       "    <tr>\n",
       "      <th>min</th>\n",
       "      <td>1.100000</td>\n",
       "    </tr>\n",
       "    <tr>\n",
       "      <th>25%</th>\n",
       "      <td>4.900000</td>\n",
       "    </tr>\n",
       "    <tr>\n",
       "      <th>50%</th>\n",
       "      <td>6.000000</td>\n",
       "    </tr>\n",
       "    <tr>\n",
       "      <th>75%</th>\n",
       "      <td>6.800000</td>\n",
       "    </tr>\n",
       "    <tr>\n",
       "      <th>max</th>\n",
       "      <td>10.000000</td>\n",
       "    </tr>\n",
       "  </tbody>\n",
       "</table>\n",
       "</div>"
      ],
      "text/plain": [
       "            Rating\n",
       "count  7919.000000\n",
       "mean      5.841621\n",
       "std       1.381777\n",
       "min       1.100000\n",
       "25%       4.900000\n",
       "50%       6.000000\n",
       "75%       6.800000\n",
       "max      10.000000"
      ]
     },
     "execution_count": 9,
     "metadata": {},
     "output_type": "execute_result"
    }
   ],
   "source": [
    "#Some Statistics about the data\n",
    "df.describe()"
   ]
  },
  {
   "cell_type": "markdown",
   "id": "1d918efa",
   "metadata": {
    "papermill": {
     "duration": 0.012273,
     "end_time": "2024-03-24T02:37:13.576724",
     "exception": false,
     "start_time": "2024-03-24T02:37:13.564451",
     "status": "completed"
    },
    "tags": []
   },
   "source": [
    "Data cleaning and preprocessing"
   ]
  },
  {
   "cell_type": "code",
   "execution_count": 10,
   "id": "c44f6a27",
   "metadata": {
    "execution": {
     "iopub.execute_input": "2024-03-24T02:37:13.603369Z",
     "iopub.status.busy": "2024-03-24T02:37:13.602677Z",
     "iopub.status.idle": "2024-03-24T02:37:13.627498Z",
     "shell.execute_reply": "2024-03-24T02:37:13.626220Z"
    },
    "papermill": {
     "duration": 0.041335,
     "end_time": "2024-03-24T02:37:13.630185",
     "exception": false,
     "start_time": "2024-03-24T02:37:13.588850",
     "status": "completed"
    },
    "tags": []
   },
   "outputs": [],
   "source": [
    "#Eliminate missing  values\n",
    "df.dropna(inplace=True)"
   ]
  },
  {
   "cell_type": "code",
   "execution_count": 11,
   "id": "65edd826",
   "metadata": {
    "execution": {
     "iopub.execute_input": "2024-03-24T02:37:13.656712Z",
     "iopub.status.busy": "2024-03-24T02:37:13.656279Z",
     "iopub.status.idle": "2024-03-24T02:37:13.672202Z",
     "shell.execute_reply": "2024-03-24T02:37:13.671014Z"
    },
    "papermill": {
     "duration": 0.032203,
     "end_time": "2024-03-24T02:37:13.674664",
     "exception": false,
     "start_time": "2024-03-24T02:37:13.642461",
     "status": "completed"
    },
    "tags": []
   },
   "outputs": [
    {
     "data": {
      "text/plain": [
       "Name        0\n",
       "Year        0\n",
       "Duration    0\n",
       "Genre       0\n",
       "Rating      0\n",
       "Votes       0\n",
       "Director    0\n",
       "Actor 1     0\n",
       "Actor 2     0\n",
       "Actor 3     0\n",
       "dtype: int64"
      ]
     },
     "execution_count": 11,
     "metadata": {},
     "output_type": "execute_result"
    }
   ],
   "source": [
    "#recheck for missing values\n",
    "df.isna().sum()"
   ]
  },
  {
   "cell_type": "code",
   "execution_count": 12,
   "id": "e5f37bfe",
   "metadata": {
    "execution": {
     "iopub.execute_input": "2024-03-24T02:37:13.701399Z",
     "iopub.status.busy": "2024-03-24T02:37:13.700938Z",
     "iopub.status.idle": "2024-03-24T02:37:13.717478Z",
     "shell.execute_reply": "2024-03-24T02:37:13.716590Z"
    },
    "papermill": {
     "duration": 0.033149,
     "end_time": "2024-03-24T02:37:13.720191",
     "exception": false,
     "start_time": "2024-03-24T02:37:13.687042",
     "status": "completed"
    },
    "tags": []
   },
   "outputs": [
    {
     "data": {
      "text/html": [
       "<div>\n",
       "<style scoped>\n",
       "    .dataframe tbody tr th:only-of-type {\n",
       "        vertical-align: middle;\n",
       "    }\n",
       "\n",
       "    .dataframe tbody tr th {\n",
       "        vertical-align: top;\n",
       "    }\n",
       "\n",
       "    .dataframe thead th {\n",
       "        text-align: right;\n",
       "    }\n",
       "</style>\n",
       "<table border=\"1\" class=\"dataframe\">\n",
       "  <thead>\n",
       "    <tr style=\"text-align: right;\">\n",
       "      <th></th>\n",
       "      <th>Name</th>\n",
       "      <th>Year</th>\n",
       "      <th>Duration</th>\n",
       "      <th>Genre</th>\n",
       "      <th>Rating</th>\n",
       "      <th>Votes</th>\n",
       "      <th>Director</th>\n",
       "      <th>Actor 1</th>\n",
       "      <th>Actor 2</th>\n",
       "      <th>Actor 3</th>\n",
       "    </tr>\n",
       "  </thead>\n",
       "  <tbody>\n",
       "    <tr>\n",
       "      <th>1</th>\n",
       "      <td>#Gadhvi (He thought he was Gandhi)</td>\n",
       "      <td>(2019)</td>\n",
       "      <td>109 min</td>\n",
       "      <td>Drama</td>\n",
       "      <td>7.0</td>\n",
       "      <td>8</td>\n",
       "      <td>Gaurav Bakshi</td>\n",
       "      <td>Rasika Dugal</td>\n",
       "      <td>Vivek Ghamande</td>\n",
       "      <td>Arvind Jangid</td>\n",
       "    </tr>\n",
       "    <tr>\n",
       "      <th>3</th>\n",
       "      <td>#Yaaram</td>\n",
       "      <td>(2019)</td>\n",
       "      <td>110 min</td>\n",
       "      <td>Comedy, Romance</td>\n",
       "      <td>4.4</td>\n",
       "      <td>35</td>\n",
       "      <td>Ovais Khan</td>\n",
       "      <td>Prateik</td>\n",
       "      <td>Ishita Raj</td>\n",
       "      <td>Siddhant Kapoor</td>\n",
       "    </tr>\n",
       "    <tr>\n",
       "      <th>5</th>\n",
       "      <td>...Aur Pyaar Ho Gaya</td>\n",
       "      <td>(1997)</td>\n",
       "      <td>147 min</td>\n",
       "      <td>Comedy, Drama, Musical</td>\n",
       "      <td>4.7</td>\n",
       "      <td>827</td>\n",
       "      <td>Rahul Rawail</td>\n",
       "      <td>Bobby Deol</td>\n",
       "      <td>Aishwarya Rai Bachchan</td>\n",
       "      <td>Shammi Kapoor</td>\n",
       "    </tr>\n",
       "    <tr>\n",
       "      <th>6</th>\n",
       "      <td>...Yahaan</td>\n",
       "      <td>(2005)</td>\n",
       "      <td>142 min</td>\n",
       "      <td>Drama, Romance, War</td>\n",
       "      <td>7.4</td>\n",
       "      <td>1,086</td>\n",
       "      <td>Shoojit Sircar</td>\n",
       "      <td>Jimmy Sheirgill</td>\n",
       "      <td>Minissha Lamba</td>\n",
       "      <td>Yashpal Sharma</td>\n",
       "    </tr>\n",
       "    <tr>\n",
       "      <th>8</th>\n",
       "      <td>?: A Question Mark</td>\n",
       "      <td>(2012)</td>\n",
       "      <td>82 min</td>\n",
       "      <td>Horror, Mystery, Thriller</td>\n",
       "      <td>5.6</td>\n",
       "      <td>326</td>\n",
       "      <td>Allyson Patel</td>\n",
       "      <td>Yash Dave</td>\n",
       "      <td>Muntazir Ahmad</td>\n",
       "      <td>Kiran Bhatia</td>\n",
       "    </tr>\n",
       "  </tbody>\n",
       "</table>\n",
       "</div>"
      ],
      "text/plain": [
       "                                 Name    Year Duration  \\\n",
       "1  #Gadhvi (He thought he was Gandhi)  (2019)  109 min   \n",
       "3                             #Yaaram  (2019)  110 min   \n",
       "5                ...Aur Pyaar Ho Gaya  (1997)  147 min   \n",
       "6                           ...Yahaan  (2005)  142 min   \n",
       "8                  ?: A Question Mark  (2012)   82 min   \n",
       "\n",
       "                       Genre  Rating  Votes        Director          Actor 1  \\\n",
       "1                      Drama     7.0      8   Gaurav Bakshi     Rasika Dugal   \n",
       "3            Comedy, Romance     4.4     35      Ovais Khan          Prateik   \n",
       "5     Comedy, Drama, Musical     4.7    827    Rahul Rawail       Bobby Deol   \n",
       "6        Drama, Romance, War     7.4  1,086  Shoojit Sircar  Jimmy Sheirgill   \n",
       "8  Horror, Mystery, Thriller     5.6    326   Allyson Patel        Yash Dave   \n",
       "\n",
       "                  Actor 2          Actor 3  \n",
       "1          Vivek Ghamande    Arvind Jangid  \n",
       "3              Ishita Raj  Siddhant Kapoor  \n",
       "5  Aishwarya Rai Bachchan    Shammi Kapoor  \n",
       "6          Minissha Lamba   Yashpal Sharma  \n",
       "8          Muntazir Ahmad     Kiran Bhatia  "
      ]
     },
     "execution_count": 12,
     "metadata": {},
     "output_type": "execute_result"
    }
   ],
   "source": [
    "df.head()"
   ]
  },
  {
   "cell_type": "code",
   "execution_count": 13,
   "id": "d65b9a23",
   "metadata": {
    "execution": {
     "iopub.execute_input": "2024-03-24T02:37:13.748862Z",
     "iopub.status.busy": "2024-03-24T02:37:13.748379Z",
     "iopub.status.idle": "2024-03-24T02:37:13.756443Z",
     "shell.execute_reply": "2024-03-24T02:37:13.755141Z"
    },
    "papermill": {
     "duration": 0.026081,
     "end_time": "2024-03-24T02:37:13.759476",
     "exception": false,
     "start_time": "2024-03-24T02:37:13.733395",
     "status": "completed"
    },
    "tags": []
   },
   "outputs": [
    {
     "data": {
      "text/plain": [
       "(5659, 10)"
      ]
     },
     "execution_count": 13,
     "metadata": {},
     "output_type": "execute_result"
    }
   ],
   "source": [
    "df.shape"
   ]
  },
  {
   "cell_type": "code",
   "execution_count": 14,
   "id": "0b07c8da",
   "metadata": {
    "execution": {
     "iopub.execute_input": "2024-03-24T02:37:13.788410Z",
     "iopub.status.busy": "2024-03-24T02:37:13.787389Z",
     "iopub.status.idle": "2024-03-24T02:37:13.797676Z",
     "shell.execute_reply": "2024-03-24T02:37:13.796793Z"
    },
    "papermill": {
     "duration": 0.027275,
     "end_time": "2024-03-24T02:37:13.800109",
     "exception": false,
     "start_time": "2024-03-24T02:37:13.772834",
     "status": "completed"
    },
    "tags": []
   },
   "outputs": [],
   "source": [
    "#Converting votes into integer\n",
    "df['Votes'] = df['Votes'].str.replace(',','').astype('int')"
   ]
  },
  {
   "cell_type": "code",
   "execution_count": 15,
   "id": "67f901f3",
   "metadata": {
    "execution": {
     "iopub.execute_input": "2024-03-24T02:37:13.828727Z",
     "iopub.status.busy": "2024-03-24T02:37:13.828035Z",
     "iopub.status.idle": "2024-03-24T02:37:13.837680Z",
     "shell.execute_reply": "2024-03-24T02:37:13.836549Z"
    },
    "papermill": {
     "duration": 0.027132,
     "end_time": "2024-03-24T02:37:13.840040",
     "exception": false,
     "start_time": "2024-03-24T02:37:13.812908",
     "status": "completed"
    },
    "tags": []
   },
   "outputs": [],
   "source": [
    "#converting the year column into integer\n",
    "df['Year'] = df['Year'].str.strip('()').astype(int)"
   ]
  },
  {
   "cell_type": "code",
   "execution_count": 16,
   "id": "9c00e66b",
   "metadata": {
    "execution": {
     "iopub.execute_input": "2024-03-24T02:37:13.868085Z",
     "iopub.status.busy": "2024-03-24T02:37:13.867351Z",
     "iopub.status.idle": "2024-03-24T02:37:13.875688Z",
     "shell.execute_reply": "2024-03-24T02:37:13.874823Z"
    },
    "papermill": {
     "duration": 0.02519,
     "end_time": "2024-03-24T02:37:13.878049",
     "exception": false,
     "start_time": "2024-03-24T02:37:13.852859",
     "status": "completed"
    },
    "tags": []
   },
   "outputs": [],
   "source": [
    "#remove the string min from the column\n",
    "df['Duration'] = df['Duration'].str.strip('min')"
   ]
  },
  {
   "cell_type": "code",
   "execution_count": 17,
   "id": "cde620c0",
   "metadata": {
    "execution": {
     "iopub.execute_input": "2024-03-24T02:37:13.906120Z",
     "iopub.status.busy": "2024-03-24T02:37:13.905444Z",
     "iopub.status.idle": "2024-03-24T02:37:13.922378Z",
     "shell.execute_reply": "2024-03-24T02:37:13.920668Z"
    },
    "papermill": {
     "duration": 0.034254,
     "end_time": "2024-03-24T02:37:13.925050",
     "exception": false,
     "start_time": "2024-03-24T02:37:13.890796",
     "status": "completed"
    },
    "tags": []
   },
   "outputs": [
    {
     "name": "stdout",
     "output_type": "stream",
     "text": [
      "<class 'pandas.core.frame.DataFrame'>\n",
      "Int64Index: 5659 entries, 1 to 15508\n",
      "Data columns (total 10 columns):\n",
      " #   Column    Non-Null Count  Dtype  \n",
      "---  ------    --------------  -----  \n",
      " 0   Name      5659 non-null   object \n",
      " 1   Year      5659 non-null   int32  \n",
      " 2   Duration  5659 non-null   object \n",
      " 3   Genre     5659 non-null   object \n",
      " 4   Rating    5659 non-null   float64\n",
      " 5   Votes     5659 non-null   int32  \n",
      " 6   Director  5659 non-null   object \n",
      " 7   Actor 1   5659 non-null   object \n",
      " 8   Actor 2   5659 non-null   object \n",
      " 9   Actor 3   5659 non-null   object \n",
      "dtypes: float64(1), int32(2), object(7)\n",
      "memory usage: 442.1+ KB\n"
     ]
    }
   ],
   "source": [
    "df.info()"
   ]
  },
  {
   "cell_type": "code",
   "execution_count": 18,
   "id": "9b74bebd",
   "metadata": {
    "execution": {
     "iopub.execute_input": "2024-03-24T02:37:13.953663Z",
     "iopub.status.busy": "2024-03-24T02:37:13.953237Z",
     "iopub.status.idle": "2024-03-24T02:37:13.970214Z",
     "shell.execute_reply": "2024-03-24T02:37:13.969048Z"
    },
    "papermill": {
     "duration": 0.034254,
     "end_time": "2024-03-24T02:37:13.972557",
     "exception": false,
     "start_time": "2024-03-24T02:37:13.938303",
     "status": "completed"
    },
    "tags": []
   },
   "outputs": [
    {
     "data": {
      "text/html": [
       "<div>\n",
       "<style scoped>\n",
       "    .dataframe tbody tr th:only-of-type {\n",
       "        vertical-align: middle;\n",
       "    }\n",
       "\n",
       "    .dataframe tbody tr th {\n",
       "        vertical-align: top;\n",
       "    }\n",
       "\n",
       "    .dataframe thead th {\n",
       "        text-align: right;\n",
       "    }\n",
       "</style>\n",
       "<table border=\"1\" class=\"dataframe\">\n",
       "  <thead>\n",
       "    <tr style=\"text-align: right;\">\n",
       "      <th></th>\n",
       "      <th>Name</th>\n",
       "      <th>Year</th>\n",
       "      <th>Duration</th>\n",
       "      <th>Genre</th>\n",
       "      <th>Rating</th>\n",
       "      <th>Votes</th>\n",
       "      <th>Director</th>\n",
       "      <th>Actor 1</th>\n",
       "      <th>Actor 2</th>\n",
       "      <th>Actor 3</th>\n",
       "    </tr>\n",
       "  </thead>\n",
       "  <tbody>\n",
       "    <tr>\n",
       "      <th>1</th>\n",
       "      <td>#Gadhvi (He thought he was Gandhi)</td>\n",
       "      <td>2019</td>\n",
       "      <td>109</td>\n",
       "      <td>Drama</td>\n",
       "      <td>7.0</td>\n",
       "      <td>8</td>\n",
       "      <td>Gaurav Bakshi</td>\n",
       "      <td>Rasika Dugal</td>\n",
       "      <td>Vivek Ghamande</td>\n",
       "      <td>Arvind Jangid</td>\n",
       "    </tr>\n",
       "    <tr>\n",
       "      <th>3</th>\n",
       "      <td>#Yaaram</td>\n",
       "      <td>2019</td>\n",
       "      <td>110</td>\n",
       "      <td>Comedy, Romance</td>\n",
       "      <td>4.4</td>\n",
       "      <td>35</td>\n",
       "      <td>Ovais Khan</td>\n",
       "      <td>Prateik</td>\n",
       "      <td>Ishita Raj</td>\n",
       "      <td>Siddhant Kapoor</td>\n",
       "    </tr>\n",
       "    <tr>\n",
       "      <th>5</th>\n",
       "      <td>...Aur Pyaar Ho Gaya</td>\n",
       "      <td>1997</td>\n",
       "      <td>147</td>\n",
       "      <td>Comedy, Drama, Musical</td>\n",
       "      <td>4.7</td>\n",
       "      <td>827</td>\n",
       "      <td>Rahul Rawail</td>\n",
       "      <td>Bobby Deol</td>\n",
       "      <td>Aishwarya Rai Bachchan</td>\n",
       "      <td>Shammi Kapoor</td>\n",
       "    </tr>\n",
       "    <tr>\n",
       "      <th>6</th>\n",
       "      <td>...Yahaan</td>\n",
       "      <td>2005</td>\n",
       "      <td>142</td>\n",
       "      <td>Drama, Romance, War</td>\n",
       "      <td>7.4</td>\n",
       "      <td>1086</td>\n",
       "      <td>Shoojit Sircar</td>\n",
       "      <td>Jimmy Sheirgill</td>\n",
       "      <td>Minissha Lamba</td>\n",
       "      <td>Yashpal Sharma</td>\n",
       "    </tr>\n",
       "    <tr>\n",
       "      <th>8</th>\n",
       "      <td>?: A Question Mark</td>\n",
       "      <td>2012</td>\n",
       "      <td>82</td>\n",
       "      <td>Horror, Mystery, Thriller</td>\n",
       "      <td>5.6</td>\n",
       "      <td>326</td>\n",
       "      <td>Allyson Patel</td>\n",
       "      <td>Yash Dave</td>\n",
       "      <td>Muntazir Ahmad</td>\n",
       "      <td>Kiran Bhatia</td>\n",
       "    </tr>\n",
       "  </tbody>\n",
       "</table>\n",
       "</div>"
      ],
      "text/plain": [
       "                                 Name  Year Duration  \\\n",
       "1  #Gadhvi (He thought he was Gandhi)  2019     109    \n",
       "3                             #Yaaram  2019     110    \n",
       "5                ...Aur Pyaar Ho Gaya  1997     147    \n",
       "6                           ...Yahaan  2005     142    \n",
       "8                  ?: A Question Mark  2012      82    \n",
       "\n",
       "                       Genre  Rating  Votes        Director          Actor 1  \\\n",
       "1                      Drama     7.0      8   Gaurav Bakshi     Rasika Dugal   \n",
       "3            Comedy, Romance     4.4     35      Ovais Khan          Prateik   \n",
       "5     Comedy, Drama, Musical     4.7    827    Rahul Rawail       Bobby Deol   \n",
       "6        Drama, Romance, War     7.4   1086  Shoojit Sircar  Jimmy Sheirgill   \n",
       "8  Horror, Mystery, Thriller     5.6    326   Allyson Patel        Yash Dave   \n",
       "\n",
       "                  Actor 2          Actor 3  \n",
       "1          Vivek Ghamande    Arvind Jangid  \n",
       "3              Ishita Raj  Siddhant Kapoor  \n",
       "5  Aishwarya Rai Bachchan    Shammi Kapoor  \n",
       "6          Minissha Lamba   Yashpal Sharma  \n",
       "8          Muntazir Ahmad     Kiran Bhatia  "
      ]
     },
     "execution_count": 18,
     "metadata": {},
     "output_type": "execute_result"
    }
   ],
   "source": [
    "df.head()"
   ]
  },
  {
   "cell_type": "markdown",
   "id": "bd169730",
   "metadata": {
    "papermill": {
     "duration": 0.012753,
     "end_time": "2024-03-24T02:37:13.999106",
     "exception": false,
     "start_time": "2024-03-24T02:37:13.986353",
     "status": "completed"
    },
    "tags": []
   },
   "source": [
    "Data visualization"
   ]
  },
  {
   "cell_type": "code",
   "execution_count": 19,
   "id": "e75196f2",
   "metadata": {
    "execution": {
     "iopub.execute_input": "2024-03-24T02:37:14.029162Z",
     "iopub.status.busy": "2024-03-24T02:37:14.028425Z",
     "iopub.status.idle": "2024-03-24T02:37:14.532787Z",
     "shell.execute_reply": "2024-03-24T02:37:14.531590Z"
    },
    "papermill": {
     "duration": 0.522891,
     "end_time": "2024-03-24T02:37:14.535635",
     "exception": false,
     "start_time": "2024-03-24T02:37:14.012744",
     "status": "completed"
    },
    "tags": []
   },
   "outputs": [
    {
     "data": {
      "image/png": "[encoded data removed]",
      "text/plain": [
       "<Figure size 432x288 with 1 Axes>"
      ]
     },
     "metadata": {
      "needs_background": "light"
     },
     "output_type": "display_data"
    }
   ],
   "source": [
    "#Visulaze ratings \n",
    "sns.histplot(data=df,x='Rating',kde=True)\n",
    "plt.title('Distribution of ratings')\n",
    "plt.show()"
   ]
  },
  {
   "cell_type": "code",
   "execution_count": 20,
   "id": "49750e76",
   "metadata": {
    "execution": {
     "iopub.execute_input": "2024-03-24T02:37:14.565557Z",
     "iopub.status.busy": "2024-03-24T02:37:14.564932Z",
     "iopub.status.idle": "2024-03-24T02:37:15.027171Z",
     "shell.execute_reply": "2024-03-24T02:37:15.026235Z"
    },
    "papermill": {
     "duration": 0.480477,
     "end_time": "2024-03-24T02:37:15.030001",
     "exception": false,
     "start_time": "2024-03-24T02:37:14.549524",
     "status": "completed"
    },
    "tags": []
   },
   "outputs": [
    {
     "data": {
      "image/png": "[encoded data removed]",
      "text/plain": [
       "<Figure size 432x288 with 1 Axes>"
      ]
     },
     "metadata": {
      "needs_background": "light"
     },
     "output_type": "display_data"
    }
   ],
   "source": [
    "#visualize the years\n",
    "sns.histplot(data=df,x='Year',kde=True)\n",
    "plt.title('Distribution of years')\n",
    "plt.show()"
   ]
  },
  {
   "cell_type": "code",
   "execution_count": 21,
   "id": "2b562065",
   "metadata": {
    "execution": {
     "iopub.execute_input": "2024-03-24T02:37:15.071187Z",
     "iopub.status.busy": "2024-03-24T02:37:15.069953Z",
     "iopub.status.idle": "2024-03-24T02:37:15.405622Z",
     "shell.execute_reply": "2024-03-24T02:37:15.404758Z"
    },
    "papermill": {
     "duration": 0.357086,
     "end_time": "2024-03-24T02:37:15.409105",
     "exception": false,
     "start_time": "2024-03-24T02:37:15.052019",
     "status": "completed"
    },
    "tags": []
   },
   "outputs": [
    {
     "data": {
      "image/png": "[encoded data removed]",
      "text/plain": [
       "<Figure size 432x288 with 1 Axes>"
      ]
     },
     "metadata": {
      "needs_background": "light"
     },
     "output_type": "display_data"
    }
   ],
   "source": [
    "#visualze the relation between the year and rating\n",
    "sns.scatterplot(data=df,x='Year',y='Rating')\n",
    "plt.title(\"The relatiob between Year and Rating\")\n",
    "plt.show()"
   ]
  },
  {
   "cell_type": "code",
   "execution_count": 22,
   "id": "66e91d72",
   "metadata": {
    "execution": {
     "iopub.execute_input": "2024-03-24T02:37:15.443768Z",
     "iopub.status.busy": "2024-03-24T02:37:15.442599Z",
     "iopub.status.idle": "2024-03-24T02:37:15.862493Z",
     "shell.execute_reply": "2024-03-24T02:37:15.861197Z"
    },
    "papermill": {
     "duration": 0.439897,
     "end_time": "2024-03-24T02:37:15.865212",
     "exception": false,
     "start_time": "2024-03-24T02:37:15.425315",
     "status": "completed"
    },
    "tags": []
   },
   "outputs": [
    {
     "data": {
      "image/png": "[encoded data removed]",
      "text/plain": [
       "<Figure size 432x288 with 1 Axes>"
      ]
     },
     "metadata": {
      "needs_background": "light"
     },
     "output_type": "display_data"
    }
   ],
   "source": [
    "#the distibution of duratiion over years\n",
    "sns.lineplot(data=df.head(15),x='Year',y='Duration')\n",
    "plt.title('The distibution of duration over years')\n",
    "plt.show()"
   ]
  },
  {
   "cell_type": "code",
   "execution_count": 23,
   "id": "c8de0986",
   "metadata": {
    "execution": {
     "iopub.execute_input": "2024-03-24T02:37:15.902078Z",
     "iopub.status.busy": "2024-03-24T02:37:15.901299Z",
     "iopub.status.idle": "2024-03-24T02:37:16.392508Z",
     "shell.execute_reply": "2024-03-24T02:37:16.391546Z"
    },
    "papermill": {
     "duration": 0.512552,
     "end_time": "2024-03-24T02:37:16.394726",
     "exception": false,
     "start_time": "2024-03-24T02:37:15.882174",
     "status": "completed"
    },
    "tags": []
   },
   "outputs": [
    {
     "data": {
      "image/png": "[encoded data removed]",
      "text/plain": [
       "<Figure size 720x432 with 1 Axes>"
      ]
     },
     "metadata": {
      "needs_background": "light"
     },
     "output_type": "display_data"
    }
   ],
   "source": [
    "#visualze genre, before tat let's get all      the genres\n",
    "movies_genre = df['Genre'].str.split(', ',expand=True).stack().value_counts()\n",
    "labels = movies_genre.keys()\n",
    "count = movies_genre.values\n",
    "plt.figure(figsize=(10,6))\n",
    "sns.barplot(x=labels,y=count)\n",
    "plt.xticks(rotation=90)\n",
    "plt.title('The frequency of each genre in the data')\n",
    "plt.xlabel('Genre')\n",
    "plt.ylabel('Counts')\n",
    "plt.show()"
   ]
  },
  {
   "cell_type": "code",
   "execution_count": 24,
   "id": "00457551",
   "metadata": {
    "execution": {
     "iopub.execute_input": "2024-03-24T02:37:16.432257Z",
     "iopub.status.busy": "2024-03-24T02:37:16.431511Z",
     "iopub.status.idle": "2024-03-24T02:37:16.482261Z",
     "shell.execute_reply": "2024-03-24T02:37:16.481292Z"
    },
    "papermill": {
     "duration": 0.072707,
     "end_time": "2024-03-24T02:37:16.484930",
     "exception": false,
     "start_time": "2024-03-24T02:37:16.412223",
     "status": "completed"
    },
    "tags": []
   },
   "outputs": [
    {
     "data": {
      "text/html": [
       "<div>\n",
       "<style scoped>\n",
       "    .dataframe tbody tr th:only-of-type {\n",
       "        vertical-align: middle;\n",
       "    }\n",
       "\n",
       "    .dataframe tbody tr th {\n",
       "        vertical-align: top;\n",
       "    }\n",
       "\n",
       "    .dataframe thead th {\n",
       "        text-align: right;\n",
       "    }\n",
       "</style>\n",
       "<table border=\"1\" class=\"dataframe\">\n",
       "  <thead>\n",
       "    <tr style=\"text-align: right;\">\n",
       "      <th></th>\n",
       "      <th>Name</th>\n",
       "      <th>Year</th>\n",
       "      <th>Duration</th>\n",
       "      <th>Genre</th>\n",
       "      <th>Rating</th>\n",
       "      <th>Votes</th>\n",
       "      <th>Director</th>\n",
       "      <th>Actor 1</th>\n",
       "      <th>Actor 2</th>\n",
       "      <th>Actor 3</th>\n",
       "    </tr>\n",
       "  </thead>\n",
       "  <tbody>\n",
       "    <tr>\n",
       "      <th>1</th>\n",
       "      <td>#Gadhvi (He thought he was Gandhi)</td>\n",
       "      <td>2019</td>\n",
       "      <td>109</td>\n",
       "      <td>229</td>\n",
       "      <td>7.0</td>\n",
       "      <td>8</td>\n",
       "      <td>629</td>\n",
       "      <td>1352</td>\n",
       "      <td>2272</td>\n",
       "      <td>319</td>\n",
       "    </tr>\n",
       "    <tr>\n",
       "      <th>3</th>\n",
       "      <td>#Yaaram</td>\n",
       "      <td>2019</td>\n",
       "      <td>110</td>\n",
       "      <td>184</td>\n",
       "      <td>4.4</td>\n",
       "      <td>35</td>\n",
       "      <td>1335</td>\n",
       "      <td>1198</td>\n",
       "      <td>719</td>\n",
       "      <td>2148</td>\n",
       "    </tr>\n",
       "    <tr>\n",
       "      <th>5</th>\n",
       "      <td>...Aur Pyaar Ho Gaya</td>\n",
       "      <td>1997</td>\n",
       "      <td>147</td>\n",
       "      <td>157</td>\n",
       "      <td>4.7</td>\n",
       "      <td>827</td>\n",
       "      <td>1530</td>\n",
       "      <td>378</td>\n",
       "      <td>75</td>\n",
       "      <td>2045</td>\n",
       "    </tr>\n",
       "    <tr>\n",
       "      <th>6</th>\n",
       "      <td>...Yahaan</td>\n",
       "      <td>2005</td>\n",
       "      <td>142</td>\n",
       "      <td>289</td>\n",
       "      <td>7.4</td>\n",
       "      <td>1086</td>\n",
       "      <td>2044</td>\n",
       "      <td>692</td>\n",
       "      <td>1112</td>\n",
       "      <td>2524</td>\n",
       "    </tr>\n",
       "    <tr>\n",
       "      <th>8</th>\n",
       "      <td>?: A Question Mark</td>\n",
       "      <td>2012</td>\n",
       "      <td>82</td>\n",
       "      <td>320</td>\n",
       "      <td>5.6</td>\n",
       "      <td>326</td>\n",
       "      <td>135</td>\n",
       "      <td>1934</td>\n",
       "      <td>1175</td>\n",
       "      <td>1013</td>\n",
       "    </tr>\n",
       "  </tbody>\n",
       "</table>\n",
       "</div>"
      ],
      "text/plain": [
       "                                 Name  Year Duration  Genre  Rating  Votes  \\\n",
       "1  #Gadhvi (He thought he was Gandhi)  2019     109     229     7.0      8   \n",
       "3                             #Yaaram  2019     110     184     4.4     35   \n",
       "5                ...Aur Pyaar Ho Gaya  1997     147     157     4.7    827   \n",
       "6                           ...Yahaan  2005     142     289     7.4   1086   \n",
       "8                  ?: A Question Mark  2012      82     320     5.6    326   \n",
       "\n",
       "   Director  Actor 1  Actor 2  Actor 3  \n",
       "1       629     1352     2272      319  \n",
       "3      1335     1198      719     2148  \n",
       "5      1530      378       75     2045  \n",
       "6      2044      692     1112     2524  \n",
       "8       135     1934     1175     1013  "
      ]
     },
     "execution_count": 24,
     "metadata": {},
     "output_type": "execute_result"
    }
   ],
   "source": [
    "#Encod the column to use them in the model:\n",
    "encoder = LabelEncoder()\n",
    "df['Actor 1'] = encoder.fit_transform(df['Actor 1'])\n",
    "df['Actor 2'] = encoder.fit_transform(df['Actor 2'])\n",
    "df['Actor 3'] = encoder.fit_transform(df['Actor 3'])\n",
    "df['Genre'] = encoder.fit_transform(df['Genre'])\n",
    "df['Director'] = encoder.fit_transform(df['Director'])\n",
    "df.head()"
   ]
  },
  {
   "cell_type": "code",
   "execution_count": 25,
   "id": "ce3de286",
   "metadata": {
    "execution": {
     "iopub.execute_input": "2024-03-24T02:37:16.522565Z",
     "iopub.status.busy": "2024-03-24T02:37:16.522111Z",
     "iopub.status.idle": "2024-03-24T02:37:16.529265Z",
     "shell.execute_reply": "2024-03-24T02:37:16.528153Z"
    },
    "papermill": {
     "duration": 0.029028,
     "end_time": "2024-03-24T02:37:16.531812",
     "exception": false,
     "start_time": "2024-03-24T02:37:16.502784",
     "status": "completed"
    },
    "tags": []
   },
   "outputs": [],
   "source": [
    "df2 = df.drop('Name',axis=1)"
   ]
  },
  {
   "cell_type": "code",
   "execution_count": 26,
   "id": "9647dd5e",
   "metadata": {
    "execution": {
     "iopub.execute_input": "2024-03-24T02:37:16.571587Z",
     "iopub.status.busy": "2024-03-24T02:37:16.571161Z",
     "iopub.status.idle": "2024-03-24T02:37:17.146416Z",
     "shell.execute_reply": "2024-03-24T02:37:17.145528Z"
    },
    "papermill": {
     "duration": 0.597703,
     "end_time": "2024-03-24T02:37:17.148994",
     "exception": false,
     "start_time": "2024-03-24T02:37:16.551291",
     "status": "completed"
    },
    "tags": []
   },
   "outputs": [
    {
     "data": {
      "image/png": "[encoded data removed]",
      "text/plain": [
       "<Figure size 432x288 with 2 Axes>"
      ]
     },
     "metadata": {
      "needs_background": "light"
     },
     "output_type": "display_data"
    }
   ],
   "source": [
    "#Heatmap Showing the correlation between columns\n",
    "sns.heatmap(df2.corr(),annot=True)\n",
    "plt.show()"
   ]
  },
  {
   "cell_type": "markdown",
   "id": "04938bed",
   "metadata": {
    "papermill": {
     "duration": 0.019712,
     "end_time": "2024-03-24T02:37:17.188239",
     "exception": false,
     "start_time": "2024-03-24T02:37:17.168527",
     "status": "completed"
    },
    "tags": []
   },
   "source": [
    "Model Building"
   ]
  },
  {
   "cell_type": "code",
   "execution_count": 27,
   "id": "ad370333",
   "metadata": {
    "execution": {
     "iopub.execute_input": "2024-03-24T02:37:17.229436Z",
     "iopub.status.busy": "2024-03-24T02:37:17.228961Z",
     "iopub.status.idle": "2024-03-24T02:37:17.242393Z",
     "shell.execute_reply": "2024-03-24T02:37:17.241146Z"
    },
    "papermill": {
     "duration": 0.037708,
     "end_time": "2024-03-24T02:37:17.245440",
     "exception": false,
     "start_time": "2024-03-24T02:37:17.207732",
     "status": "completed"
    },
    "tags": []
   },
   "outputs": [],
   "source": [
    "#split the data \n",
    "X = df2.drop('Rating',axis=1)\n",
    "y= df2['Rating']\n",
    "\n",
    "X_train,X_test,y_train,y_test = train_test_split(X,y,test_size=0.3,random_state=42)"
   ]
  },
  {
   "cell_type": "code",
   "execution_count": 28,
   "id": "1eaee9ad",
   "metadata": {
    "execution": {
     "iopub.execute_input": "2024-03-24T02:37:17.286982Z",
     "iopub.status.busy": "2024-03-24T02:37:17.286542Z",
     "iopub.status.idle": "2024-03-24T02:37:17.330727Z",
     "shell.execute_reply": "2024-03-24T02:37:17.329533Z"
    },
    "papermill": {
     "duration": 0.067845,
     "end_time": "2024-03-24T02:37:17.333393",
     "exception": false,
     "start_time": "2024-03-24T02:37:17.265548",
     "status": "completed"
    },
    "tags": []
   },
   "outputs": [
    {
     "data": {
      "text/plain": [
       "LinearRegression()"
      ]
     },
     "execution_count": 28,
     "metadata": {},
     "output_type": "execute_result"
    }
   ],
   "source": [
    "#initialoze the model\n",
    "model = LinearRegression()\n",
    "#Fiting the training data\n",
    "model.fit(X_train,y_train)"
   ]
  },
  {
   "cell_type": "code",
   "execution_count": 29,
   "id": "6c1d2cd2",
   "metadata": {
    "execution": {
     "iopub.execute_input": "2024-03-24T02:37:17.377150Z",
     "iopub.status.busy": "2024-03-24T02:37:17.376366Z",
     "iopub.status.idle": "2024-03-24T02:37:17.406660Z",
     "shell.execute_reply": "2024-03-24T02:37:17.404704Z"
    },
    "papermill": {
     "duration": 0.057614,
     "end_time": "2024-03-24T02:37:17.411259",
     "exception": false,
     "start_time": "2024-03-24T02:37:17.353645",
     "status": "completed"
    },
    "tags": []
   },
   "outputs": [
    {
     "data": {
      "text/plain": [
       "array([5.63683425, 5.84694164, 5.93283536, ..., 6.02786817, 5.89959597,\n",
       "       5.36480764])"
      ]
     },
     "execution_count": 29,
     "metadata": {},
     "output_type": "execute_result"
    }
   ],
   "source": [
    "#predict values\n",
    "y_pred = model.predict(X_test)\n",
    "y_pred"
   ]
  },
  {
   "cell_type": "code",
   "execution_count": 30,
   "id": "6652d04d",
   "metadata": {
    "execution": {
     "iopub.execute_input": "2024-03-24T02:37:17.514812Z",
     "iopub.status.busy": "2024-03-24T02:37:17.514399Z",
     "iopub.status.idle": "2024-03-24T02:37:17.521517Z",
     "shell.execute_reply": "2024-03-24T02:37:17.520331Z"
    },
    "papermill": {
     "duration": 0.054857,
     "end_time": "2024-03-24T02:37:17.523718",
     "exception": false,
     "start_time": "2024-03-24T02:37:17.468861",
     "status": "completed"
    },
    "tags": []
   },
   "outputs": [
    {
     "name": "stdout",
     "output_type": "stream",
     "text": [
      "Mean Absolute Error : 1.035560357957047\n",
      "Mean Squared Error : 1.673779829083964\n"
     ]
    }
   ],
   "source": [
    "#calculating some metrics\n",
    "print(f\"Mean Absolute Error : {mean_absolute_error(y_test,y_pred)}\")\n",
    "print(f\"Mean Squared Error : {mean_squared_error(y_test,y_pred)}\")"
   ]
  },
  {
   "cell_type": "code",
   "execution_count": 31,
   "id": "bfdfa26f",
   "metadata": {
    "execution": {
     "iopub.execute_input": "2024-03-24T02:37:17.567062Z",
     "iopub.status.busy": "2024-03-24T02:37:17.566272Z",
     "iopub.status.idle": "2024-03-24T02:37:17.572541Z",
     "shell.execute_reply": "2024-03-24T02:37:17.571384Z"
    },
    "papermill": {
     "duration": 0.030357,
     "end_time": "2024-03-24T02:37:17.574929",
     "exception": false,
     "start_time": "2024-03-24T02:37:17.544572",
     "status": "completed"
    },
    "tags": []
   },
   "outputs": [
    {
     "name": "stdout",
     "output_type": "stream",
     "text": [
      "R2 score : 0.08633120473998934\n"
     ]
    }
   ],
   "source": [
    "#calculating the r2 score\n",
    "print(f\"R2 score : {r2_score(y_test,y_pred)}\")"
   ]
  }
 ],
 "metadata": {
  "kaggle": {
   "accelerator": "none",
   "dataSources": [
    {
     "datasetId": 1416444,
     "sourceId": 2346296,
     "sourceType": "datasetVersion"
    }
   ],
   "dockerImageVersionId": 30673,
   "isGpuEnabled": false,
   "isInternetEnabled": true,
   "language": "python",
   "sourceType": "notebook"
  },
  "kernelspec": {
   "display_name": "Python 3 (ipykernel)",
   "language": "python",
   "name": "python3"
  },
  "language_info": {
   "codemirror_mode": {
    "name": "ipython",
    "version": 3
   },
   "file_extension": ".py",
   "mimetype": "text/x-python",
   "name": "python",
   "nbconvert_exporter": "python",
   "pygments_lexer": "ipython3",
   "version": "3.9.7"
  },
  "papermill": {
   "default_parameters": {},
   "duration": 11.805377,
   "end_time": "2024-03-24T02:37:18.318256",
   "environment_variables": {},
   "exception": null,
   "input_path": "__notebook__.ipynb",
   "output_path": "__notebook__.ipynb",
   "parameters": {},
   "start_time": "2024-03-24T02:37:06.512879",
   "version": "2.5.0"
  }
 },
 "nbformat": 4,
 "nbformat_minor": 5
}
